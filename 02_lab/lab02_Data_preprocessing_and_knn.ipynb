{
  "nbformat": 4,
  "nbformat_minor": 0,
  "metadata": {
    "kernelspec": {
      "display_name": "Python 3",
      "language": "python",
      "name": "python3"
    },
    "language_info": {
      "codemirror_mode": {
        "name": "ipython",
        "version": 3
      },
      "file_extension": ".py",
      "mimetype": "text/x-python",
      "name": "python",
      "nbconvert_exporter": "python",
      "pygments_lexer": "ipython3",
      "version": "3.5.2"
    },
    "colab": {
      "name": "lab02_Data_preprocessing_and_knn.ipynb",
      "provenance": [],
      "collapsed_sections": [],
      "include_colab_link": true
    }
  },
  "cells": [
    {
      "cell_type": "markdown",
      "metadata": {
        "id": "view-in-github",
        "colab_type": "text"
      },
      "source": [
        "<a href=\"https://colab.research.google.com/github/yandexdataschool/MLatImperial2020/blob/master/02_lab/lab02_Data_preprocessing_and_knn.ipynb\" target=\"_parent\"><img src=\"https://colab.research.google.com/assets/colab-badge.svg\" alt=\"Open In Colab\"/></a>"
      ]
    },
    {
      "cell_type": "code",
      "metadata": {
        "id": "O3fVFzzlopuI",
        "colab_type": "code",
        "colab": {}
      },
      "source": [
        "import pandas as pd\n",
        "import numpy as np\n",
        "\n",
        "import matplotlib.pyplot as plt"
      ],
      "execution_count": 0,
      "outputs": []
    },
    {
      "cell_type": "markdown",
      "metadata": {
        "id": "M2K7cNosopuP",
        "colab_type": "text"
      },
      "source": [
        "## Metrics"
      ]
    },
    {
      "cell_type": "markdown",
      "metadata": {
        "id": "zCMT3uwFopuR",
        "colab_type": "text"
      },
      "source": [
        "There are various different metrics to measure you algorithm's quality. In this exercise we will use ROC AUC. It is simply area under the ROC-curve (that's what AUC stands for - area under curve). ROC-curve is a plot of TPR - true positive rate vs FPR - false positive rate.\n",
        "\n",
        "A very nice interactive demonstartion of ROC-curves can be found [here](http://arogozhnikov.github.io/2015/10/05/roc-curve.html).\n",
        "\n",
        "Here is an example in sklearn [click](https://scikit-learn.org/stable/auto_examples/model_selection/plot_roc_crossval.html#sphx-glr-auto-examples-model-selection-plot-roc-crossval-py)"
      ]
    },
    {
      "cell_type": "markdown",
      "metadata": {
        "id": "XUJpUcXuopuT",
        "colab_type": "text"
      },
      "source": [
        "# Data"
      ]
    },
    {
      "cell_type": "code",
      "metadata": {
        "id": "pkh29rB9uKRY",
        "colab_type": "code",
        "colab": {}
      },
      "source": [
        "!wget https://github.com/yandexdataschool/MLatImperial2020/raw/master/02_lab/data.adult.csv"
      ],
      "execution_count": 0,
      "outputs": []
    },
    {
      "cell_type": "code",
      "metadata": {
        "id": "0Exm4ZvNopuU",
        "colab_type": "code",
        "colab": {}
      },
      "source": [
        "data = pd.read_csv('data.adult.csv')\n",
        "data.shape"
      ],
      "execution_count": 0,
      "outputs": []
    },
    {
      "cell_type": "code",
      "metadata": {
        "id": "LPnoQ3c0opuY",
        "colab_type": "code",
        "colab": {}
      },
      "source": [
        "data.head(5)"
      ],
      "execution_count": 0,
      "outputs": []
    },
    {
      "cell_type": "markdown",
      "metadata": {
        "id": "nOybXRWFopud",
        "colab_type": "text"
      },
      "source": [
        "### Task 1\n",
        "- Find all features, that have missing values in them. Missing values have value \"?\" in this dataset."
      ]
    },
    {
      "cell_type": "code",
      "metadata": {
        "id": "XP1pyuJwurOR",
        "colab_type": "code",
        "colab": {}
      },
      "source": [
        "<YOUR CODE>"
      ],
      "execution_count": 0,
      "outputs": []
    },
    {
      "cell_type": "markdown",
      "metadata": {
        "id": "UH-FLOhYERue",
        "colab_type": "text"
      },
      "source": [
        "- Select target variable (salary), delete it from dataset and convert in to binary format.\n",
        "- Select real valued features (the `DataFrame`'s `select_dtypes` method might help you here)"
      ]
    },
    {
      "cell_type": "code",
      "metadata": {
        "id": "S16Y1rKqopuf",
        "colab_type": "code",
        "colab": {}
      },
      "source": [
        "target = <YOUR CODE>\n",
        "features_all = <YOUR CODE> # (data without the target column)\n",
        "features_numeric = <YOUR CODE>\n",
        "features_string = <YOUR CODE>"
      ],
      "execution_count": 0,
      "outputs": []
    },
    {
      "cell_type": "markdown",
      "metadata": {
        "id": "OCp8VxKOopuk",
        "colab_type": "text"
      },
      "source": [
        "## Now, we are going to train Knn Classifier"
      ]
    },
    {
      "cell_type": "markdown",
      "metadata": {
        "id": "CgLgVpCUopum",
        "colab_type": "text"
      },
      "source": [
        "Recall, that KNN is a metric based algorithm. It caclulates distance in the given space. It then just assigns a label as a vote of its neighbours. Modifications with different distance weightning can also be used."
      ]
    },
    {
      "cell_type": "code",
      "metadata": {
        "id": "P730ik5sopun",
        "colab_type": "code",
        "colab": {}
      },
      "source": [
        "from sklearn.neighbors import KNeighborsClassifier\n",
        "from sklearn.model_selection import GridSearchCV"
      ],
      "execution_count": 0,
      "outputs": []
    },
    {
      "cell_type": "code",
      "metadata": {
        "id": "ZPSKSpPLoput",
        "colab_type": "code",
        "colab": {}
      },
      "source": [
        "# A function to plot score vs param value\n",
        "\n",
        "def plotting(X, Y, Error, model=\"KNN\"):\n",
        "    plt.figure(figsize=[12,5])\n",
        "    plt.title(\"ROC_AUC score: \" + model)\n",
        "    plt.xlabel('param_value')\n",
        "    plt.ylabel('ROC_AUC score')\n",
        "    plt.plot(X, Y,'bo-', color='b', ms=5, label=\"ROC_AUC score\")\n",
        "    plt.fill_between(X, Y - 1.96 * Error, Y + 1.96 * Error, facecolor='g', alpha=0.6, label=\"95% confidence interval\")\n",
        "    plt.legend()\n",
        "    plt.grid()\n",
        "    plt.show()"
      ],
      "execution_count": 0,
      "outputs": []
    },
    {
      "cell_type": "markdown",
      "metadata": {
        "id": "WJctX5i9opu0",
        "colab_type": "text"
      },
      "source": [
        "Now, your task is to find the optimal number of neighbours using cross-validation with GridSearchCV (see the import above).\n",
        "\n",
        "Use the function `plotting` defined above, where `X` is the grid searched value of the number of neigbbours,\n",
        "`Y` is the test score and `Error` is its standard deviation. All this info can be extracted from an instance of the GridSearchCV class, once fitted."
      ]
    },
    {
      "cell_type": "code",
      "metadata": {
        "id": "qrFpydxwopu1",
        "colab_type": "code",
        "colab": {}
      },
      "source": [
        "base_model = KNeighborsClassifier(n_jobs=-1)\n",
        "\n",
        "param_grid = <YOUR CODE> # GridSearchCV expects you to provide a dictionary\n",
        "                         # mapping parameter names to arrays of values you\n",
        "                         # want to do the search over. Here we'll do the search\n",
        "                         # over only one parameter of KNeighborsClassifier - 'n_neighbors'\n",
        "\n",
        "gscv = GridSearchCV(<YOUR CODE>) # Check the documentation to fill\n",
        "                                 # in the GridSearchCV constructor call.\n",
        "                                 # Use 'roc_auc' for the scoring function and\n",
        "                                 # 5-fold cross-validation. Also, adding\n",
        "                                 # n_jobs=-1 should make it run faster.\n",
        "\n",
        "\n",
        "# Call the fit method to run the grid search\n",
        "gscv.fit(features_numeric, target)"
      ],
      "execution_count": 0,
      "outputs": []
    },
    {
      "cell_type": "code",
      "metadata": {
        "id": "0moJSWQ8dUcJ",
        "colab_type": "code",
        "colab": {}
      },
      "source": [
        "plotting(<YOUR CODE>) # Explore the contents of gscv.cv_results_ after fitting\n",
        "                      # to find the resulting scores and their errors"
      ],
      "execution_count": 0,
      "outputs": []
    },
    {
      "cell_type": "code",
      "metadata": {
        "id": "opTo2376ddqr",
        "colab_type": "code",
        "colab": {}
      },
      "source": [
        ""
      ],
      "execution_count": 0,
      "outputs": []
    },
    {
      "cell_type": "code",
      "metadata": {
        "id": "vaGMGzEYddfT",
        "colab_type": "code",
        "colab": {}
      },
      "source": [
        ""
      ],
      "execution_count": 0,
      "outputs": []
    },
    {
      "cell_type": "code",
      "metadata": {
        "id": "QGBsyqqRddA3",
        "colab_type": "code",
        "colab": {}
      },
      "source": [
        ""
      ],
      "execution_count": 0,
      "outputs": []
    },
    {
      "cell_type": "markdown",
      "metadata": {
        "id": "fv5P587xopu5",
        "colab_type": "text"
      },
      "source": [
        "What do you think? What's the problem for such bad results?"
      ]
    },
    {
      "cell_type": "markdown",
      "metadata": {
        "id": "F4oupv6Mopu6",
        "colab_type": "text"
      },
      "source": [
        "#### Plot histograms for age, fnlwgt, capital-gain. What do you observe?"
      ]
    },
    {
      "cell_type": "code",
      "metadata": {
        "id": "7rsTSZ63opu7",
        "colab_type": "code",
        "colab": {}
      },
      "source": [
        "<YOUR CODE>"
      ],
      "execution_count": 0,
      "outputs": []
    },
    {
      "cell_type": "code",
      "metadata": {
        "id": "iwY61-UNLfGU",
        "colab_type": "code",
        "colab": {}
      },
      "source": [
        ""
      ],
      "execution_count": 0,
      "outputs": []
    },
    {
      "cell_type": "code",
      "metadata": {
        "id": "gg_inSNALfEI",
        "colab_type": "code",
        "colab": {}
      },
      "source": [
        ""
      ],
      "execution_count": 0,
      "outputs": []
    },
    {
      "cell_type": "code",
      "metadata": {
        "id": "oE2RBC-rLfBA",
        "colab_type": "code",
        "colab": {}
      },
      "source": [
        ""
      ],
      "execution_count": 0,
      "outputs": []
    },
    {
      "cell_type": "code",
      "metadata": {
        "id": "WKZpmDEfLe9C",
        "colab_type": "code",
        "colab": {}
      },
      "source": [
        ""
      ],
      "execution_count": 0,
      "outputs": []
    },
    {
      "cell_type": "code",
      "metadata": {
        "id": "U5Ti8OPuLe5Q",
        "colab_type": "code",
        "colab": {}
      },
      "source": [
        ""
      ],
      "execution_count": 0,
      "outputs": []
    },
    {
      "cell_type": "code",
      "metadata": {
        "id": "YNjEYVu0Levf",
        "colab_type": "code",
        "colab": {}
      },
      "source": [
        ""
      ],
      "execution_count": 0,
      "outputs": []
    },
    {
      "cell_type": "markdown",
      "metadata": {
        "id": "WcR47UOjopu-",
        "colab_type": "text"
      },
      "source": [
        "We now scale the data, using inbuild Standard Scaler, which standartised features - makes zero mean and unit variance. "
      ]
    },
    {
      "cell_type": "code",
      "metadata": {
        "id": "SWarbqKmopvB",
        "colab_type": "code",
        "colab": {}
      },
      "source": [
        "from sklearn.preprocessing import StandardScaler\n",
        "features_numeric_scaled = features_numeric.copy()\n",
        "features_numeric_scaled[:] = StandardScaler().fit_transform(features_numeric)"
      ],
      "execution_count": 0,
      "outputs": []
    },
    {
      "cell_type": "markdown",
      "metadata": {
        "id": "_YT8dmbiL47O",
        "colab_type": "text"
      },
      "source": [
        "Try running the grid search again, now on the scaled features."
      ]
    },
    {
      "cell_type": "code",
      "metadata": {
        "id": "ZSB3BN6fL0sE",
        "colab_type": "code",
        "colab": {}
      },
      "source": [
        "<YOUR CODE>"
      ],
      "execution_count": 0,
      "outputs": []
    },
    {
      "cell_type": "code",
      "metadata": {
        "id": "OlVj7DY1MEsb",
        "colab_type": "code",
        "colab": {}
      },
      "source": [
        ""
      ],
      "execution_count": 0,
      "outputs": []
    },
    {
      "cell_type": "code",
      "metadata": {
        "id": "_qwvbN77MEkF",
        "colab_type": "code",
        "colab": {}
      },
      "source": [
        ""
      ],
      "execution_count": 0,
      "outputs": []
    },
    {
      "cell_type": "markdown",
      "metadata": {
        "id": "wBNBrBzpopvK",
        "colab_type": "text"
      },
      "source": [
        "## Remember we had categorical features? Lets try to use them, for the same best n_neighbours we have found. Before we need to encode them - create one-hot encoded representation."
      ]
    },
    {
      "cell_type": "code",
      "metadata": {
        "id": "RC_IXXbbopvL",
        "colab_type": "code",
        "colab": {}
      },
      "source": [
        "features_one_hot = pd.get_dummies(features_string)\n",
        "print(features_one_hot.shape)\n",
        "features_one_hot.head(5)"
      ],
      "execution_count": 0,
      "outputs": []
    },
    {
      "cell_type": "code",
      "metadata": {
        "id": "MFUTa7O7opvQ",
        "colab_type": "code",
        "colab": {}
      },
      "source": [
        "features_merged = pd.concat([features_one_hot, features_numeric_scaled], axis=1)\n",
        "\n",
        "features_merged.head(3)"
      ],
      "execution_count": 0,
      "outputs": []
    },
    {
      "cell_type": "code",
      "metadata": {
        "id": "vBqgzoz_opvW",
        "colab_type": "code",
        "colab": {}
      },
      "source": [
        "from sklearn.model_selection import cross_val_score\n",
        "\n",
        "knn = KNeighborsClassifier(n_neighbors=52, metric='minkowski', n_jobs=-1)\n",
        "\n",
        "print(\"Result: {}\".format(\n",
        "    np.mean(cross_val_score(knn, features_merged, target, scoring='roc_auc', n_jobs=-1, cv=5))\n",
        "))"
      ],
      "execution_count": 0,
      "outputs": []
    },
    {
      "cell_type": "code",
      "metadata": {
        "id": "UWXbwvExopvZ",
        "colab_type": "code",
        "colab": {}
      },
      "source": [
        "%%html\n",
        "<img src=http://dogr.io/wow/suchresult/sooneenhot.png width=\"300\">"
      ],
      "execution_count": 0,
      "outputs": []
    }
  ]
}
