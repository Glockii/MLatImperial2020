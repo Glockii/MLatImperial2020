{
  "nbformat": 4,
  "nbformat_minor": 0,
  "metadata": {
    "colab": {
      "name": "BiasVariance.ipynb",
      "provenance": [],
      "collapsed_sections": [],
      "include_colab_link": true
    },
    "kernelspec": {
      "name": "python3",
      "display_name": "Python 3"
    }
  },
  "cells": [
    {
      "cell_type": "markdown",
      "metadata": {
        "id": "view-in-github",
        "colab_type": "text"
      },
      "source": [
        "<a href=\"https://colab.research.google.com/github/yandexdataschool/MLatImperial2020/blob/master/04_lab/BiasVariance.ipynb\" target=\"_parent\"><img src=\"https://colab.research.google.com/assets/colab-badge.svg\" alt=\"Open In Colab\"/></a>"
      ]
    },
    {
      "cell_type": "markdown",
      "metadata": {
        "id": "ecjpqpMok8eh",
        "colab_type": "text"
      },
      "source": [
        "# Bias-Variance decomposition"
      ]
    },
    {
      "cell_type": "code",
      "metadata": {
        "id": "fPtlnBa24uv8",
        "colab_type": "code",
        "colab": {}
      },
      "source": [
        "import numpy as np\n",
        "import matplotlib.pyplot as plt"
      ],
      "execution_count": 0,
      "outputs": []
    },
    {
      "cell_type": "code",
      "metadata": {
        "id": "TPl1NddU45kV",
        "colab_type": "code",
        "colab": {}
      },
      "source": [
        "def true_dep(x):\n",
        "  return np.cos((x - 0.2)**2) + 0.2 / (1 + 50 * (x - 0.3)**2)\n",
        "\n",
        "x_true = np.linspace(0, 1, 100)\n",
        "y_true = true_dep(x_true)\n",
        "\n",
        "def generate_n_datasets(num_datasets, dataset_length, noise_power=0.02):\n",
        "  shape = (num_datasets, dataset_length, 1)\n",
        "  x = np.random.uniform(size=shape)\n",
        "  y = true_dep(x) + np.random.normal(scale=noise_power, size=shape)\n",
        "  return x, y"
      ],
      "execution_count": 0,
      "outputs": []
    },
    {
      "cell_type": "code",
      "metadata": {
        "id": "AMq2dk0b7KAN",
        "colab_type": "code",
        "colab": {}
      },
      "source": [
        "x, y = generate_n_datasets(1, 30)\n",
        "plt.scatter(x.squeeze(), y.squeeze(), s=20, c='orange')\n",
        "plt.plot(x_true, y_true, c='c', linewidth=1.5);"
      ],
      "execution_count": 0,
      "outputs": []
    },
    {
      "cell_type": "code",
      "metadata": {
        "id": "XmhwKmCb9IGM",
        "colab_type": "code",
        "colab": {}
      },
      "source": [
        "from copy import deepcopy\n",
        "from tqdm import tqdm, trange"
      ],
      "execution_count": 0,
      "outputs": []
    },
    {
      "cell_type": "code",
      "metadata": {
        "id": "9rWsmqAu8NDm",
        "colab_type": "code",
        "colab": {}
      },
      "source": [
        "def calc_bias2_variance(model, datasets_X, datasets_y):\n",
        "  preds = []\n",
        "  for X, y in tqdm(zip(datasets_X, datasets_y), total=len(datasets_X)):\n",
        "    m = deepcopy(model)\n",
        "    m.fit(X, y)\n",
        "    preds.append(m.predict(x_true[:,np.newaxis]).squeeze())\n",
        "  preds = np.array(preds)\n",
        "  mean_pred = preds.mean(axis=0)\n",
        "  bias2 = (y_true - mean_pred)**2\n",
        "  variance = ((preds - mean_pred[np.newaxis,...])**2).mean(axis=0)\n",
        "\n",
        "  return bias2, variance, preds"
      ],
      "execution_count": 0,
      "outputs": []
    },
    {
      "cell_type": "code",
      "metadata": {
        "id": "mO6xg7VB-fg-",
        "colab_type": "code",
        "colab": {}
      },
      "source": [
        "from sklearn.linear_model import LinearRegression\n",
        "from sklearn.pipeline import Pipeline\n",
        "from sklearn.preprocessing import PolynomialFeatures"
      ],
      "execution_count": 0,
      "outputs": []
    },
    {
      "cell_type": "code",
      "metadata": {
        "id": "3zerleLK-pvJ",
        "colab_type": "code",
        "colab": {}
      },
      "source": [
        "powers = np.arange(1, 9)\n",
        "\n",
        "bias2, variance, preds = [], [], []\n",
        "for p in powers:\n",
        "  model = Pipeline([\n",
        "      ('poly', PolynomialFeatures(degree=p)),\n",
        "      ('linear', LinearRegression())\n",
        "  ])\n",
        "\n",
        "  b2, v, p = calc_bias2_variance(model, *generate_n_datasets(1000, 20))\n",
        "  bias2.append(b2)\n",
        "  variance.append(v)\n",
        "  preds.append(p)\n",
        "\n",
        "bias2 = np.array(bias2)\n",
        "variance = np.array(variance)"
      ],
      "execution_count": 0,
      "outputs": []
    },
    {
      "cell_type": "code",
      "metadata": {
        "id": "LvTGdDn6hJ5n",
        "colab_type": "code",
        "colab": {}
      },
      "source": [
        "ncols = 4\n",
        "nrows = int(np.ceil(len(powers) / ncols))\n",
        "\n",
        "plt.figure(figsize=(18, 3.5 * nrows))\n",
        "\n",
        "yrange = y_true.max() - y_true.min()\n",
        "\n",
        "for i, (pred, pow) in tqdm(enumerate(zip(preds, powers), 1)):\n",
        "  plt.subplot(nrows, ncols, i)\n",
        "  for p in pred[np.random.choice(len(pred), size=200, replace=False)]:\n",
        "    plt.plot(x_true, p, linewidth=0.05, c='b');\n",
        "  plt.plot(x_true, y_true, linewidth=3, label='Truth', c='r')\n",
        "  plt.ylim(y_true.min() - 0.5 * yrange, y_true.max() + 0.5 * yrange)\n",
        "  plt.title('power = {}'.format(pow))\n",
        "  plt.legend();"
      ],
      "execution_count": 0,
      "outputs": []
    },
    {
      "cell_type": "code",
      "metadata": {
        "id": "FCYG8jE6fxf2",
        "colab_type": "code",
        "colab": {}
      },
      "source": [
        "plt.plot(powers, bias2.mean(axis=1), label='bias^2')\n",
        "plt.plot(powers, variance.mean(axis=1), label='variance')\n",
        "plt.legend()\n",
        "plt.yscale('log')\n",
        "plt.xlabel('power');"
      ],
      "execution_count": 0,
      "outputs": []
    }
  ]
}
