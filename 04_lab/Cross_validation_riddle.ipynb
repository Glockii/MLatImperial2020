{
  "nbformat": 4,
  "nbformat_minor": 0,
  "metadata": {
    "colab": {
      "name": "Cross-validation riddle.ipynb",
      "provenance": [],
      "include_colab_link": true
    },
    "kernelspec": {
      "name": "python3",
      "display_name": "Python 3"
    }
  },
  "cells": [
    {
      "cell_type": "markdown",
      "metadata": {
        "id": "view-in-github",
        "colab_type": "text"
      },
      "source": [
        "<a href=\"https://colab.research.google.com/github/yandexdataschool/MLatImperial2020/blob/master/04_lab/Cross_validation_riddle.ipynb\" target=\"_parent\"><img src=\"https://colab.research.google.com/assets/colab-badge.svg\" alt=\"Open In Colab\"/></a>"
      ]
    },
    {
      "cell_type": "markdown",
      "metadata": {
        "id": "Ij_zY4soDF2Z",
        "colab_type": "text"
      },
      "source": [
        "# Cross-validation riddle"
      ]
    },
    {
      "cell_type": "markdown",
      "metadata": {
        "id": "qUCsY5OlDJPl",
        "colab_type": "text"
      },
      "source": [
        "Here's a small example of cross-validation done wrongly. Can you spot the problem?"
      ]
    },
    {
      "cell_type": "code",
      "metadata": {
        "id": "mSUzkXsC-R4H",
        "colab_type": "code",
        "colab": {}
      },
      "source": [
        "# Some imports...\n",
        "import numpy as np\n",
        "import matplotlib.pyplot as plt\n",
        "\n",
        "from sklearn.svm import LinearSVC\n",
        "from sklearn.model_selection import KFold, cross_val_score\n",
        "from sklearn.metrics import accuracy_score"
      ],
      "execution_count": 0,
      "outputs": []
    },
    {
      "cell_type": "markdown",
      "metadata": {
        "id": "ZyDp3Xc_DaDM",
        "colab_type": "text"
      },
      "source": [
        "**Plan:**\n",
        "\n",
        "- Let's create a binary classification dataset where targets are completely independent from the features\n",
        "  - *(i.e. no model could ever predict them well)*\n",
        "- We'll do some simple feature selection\n",
        "- And cross-validate a model on this data\n",
        "\n",
        "**Q:** what accuracy do we expect (classes are even)?"
      ]
    },
    {
      "cell_type": "markdown",
      "metadata": {
        "id": "IHx51DKP8Rcf",
        "colab_type": "text"
      },
      "source": [
        "We'll start from writing a class to select the best features:"
      ]
    },
    {
      "cell_type": "code",
      "metadata": {
        "id": "rRNmKZJJ8W7x",
        "colab_type": "code",
        "colab": {}
      },
      "source": [
        "class FeatureSelector:\n",
        "  def __init__(self, num_features):\n",
        "    self.n = num_features # number of best features to select\n",
        "\n",
        "  def fit(self, X, y):\n",
        "    # Select features that describe the targets best, i.e. have\n",
        "    # highest correlation with them:\n",
        "    covariance = ((X - X.mean(axis=0)) * (y[:,np.newaxis] - y.mean())).mean(axis=0)\n",
        "    self.best_feature_ids = np.argsort(np.abs(covariance))[-self.n:]\n",
        "\n",
        "  def transform(self, X):\n",
        "    return X[:,self.best_feature_ids]\n",
        "\n",
        "  def fit_transform(self, X, y):\n",
        "    self.fit(X, y)\n",
        "    return self.transform(X)"
      ],
      "execution_count": 0,
      "outputs": []
    },
    {
      "cell_type": "code",
      "metadata": {
        "colab_type": "code",
        "outputId": "020bdc20-04e3-45c3-a3a7-a4c2cf9139e5",
        "id": "6mu9gHgNBk_V",
        "colab": {
          "base_uri": "https://localhost:8080/",
          "height": 34
        }
      },
      "source": [
        "num_features_total = 1000\n",
        "num_features_best = 100\n",
        "\n",
        "N = 100\n",
        "\n",
        "# Dataset generation\n",
        "X = np.random.normal(size=(N, num_features_total))\n",
        "y = np.random.randint(2, size=N)\n",
        "\n",
        "# Feature selection:\n",
        "X_best = FeatureSelector(num_features_best).fit_transform(X, y)\n",
        "\n",
        "# Simple classification model\n",
        "model = LinearSVC()\n",
        "\n",
        "# Estimatin accuracy using cross-validation:\n",
        "cv_score = cross_val_score(model, X_best, y, scoring='accuracy', cv=10, n_jobs=-1).mean()\n",
        "print(f\"CV score is {cv_score}\")"
      ],
      "execution_count": 3,
      "outputs": [
        {
          "output_type": "stream",
          "text": [
            "CV score is 0.9200000000000002\n"
          ],
          "name": "stdout"
        }
      ]
    },
    {
      "cell_type": "markdown",
      "metadata": {
        "id": "afadN3ZVFKjF",
        "colab_type": "text"
      },
      "source": [
        "What's going on?! Why accuracy is so high?\n",
        "\n",
        "Maybe it just happened by chance? Let's repeat this experiment many times and histogram the results:"
      ]
    },
    {
      "cell_type": "code",
      "metadata": {
        "id": "QDbOMXnuC6uw",
        "colab_type": "code",
        "outputId": "597d41e7-482b-4f6a-8565-316644c1b04e",
        "colab": {
          "base_uri": "https://localhost:8080/",
          "height": 265
        }
      },
      "source": [
        "num_features_total = 1000\n",
        "num_features_best = 100\n",
        "\n",
        "N = 100\n",
        "def experiment():\n",
        "  # Dataset generation\n",
        "  X = np.random.normal(size=(N, num_features_total))\n",
        "  y = np.random.randint(2, size=N)\n",
        "\n",
        "  # Feature selection:\n",
        "  X_best = FeatureSelector(num_features_best).fit_transform(X, y)\n",
        "\n",
        "  # Simple classification model\n",
        "  model = LinearSVC()\n",
        "\n",
        "  # Estimatin accuracy using cross-validation:\n",
        "  return cross_val_score(model, X_best, y, scoring='accuracy', cv=10, n_jobs=-1).mean()\n",
        "\n",
        "results = [experiment() for _ in range(100)]\n",
        "plt.hist(results, bins=10);"
      ],
      "execution_count": 4,
      "outputs": [
        {
          "output_type": "display_data",
          "data": {
            "image/png": "[encoded data removed]",
            "text/plain": [
              "<Figure size 432x288 with 1 Axes>"
            ]
          },
          "metadata": {
            "tags": []
          }
        }
      ]
    },
    {
      "cell_type": "markdown",
      "metadata": {
        "id": "8bLaEypoF5pb",
        "colab_type": "text"
      },
      "source": [
        "Can you explain and fix this?"
      ]
    }
  ]
}
